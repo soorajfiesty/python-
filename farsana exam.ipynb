{
 "cells": [
  {
   "cell_type": "code",
   "execution_count": 1,
   "id": "cc5fc112",
   "metadata": {},
   "outputs": [
    {
     "name": "stdout",
     "output_type": "stream",
     "text": [
      "enter a name:farsana\n"
     ]
    }
   ],
   "source": [
    "#Q1\n",
    "#1\n",
    "name=input('enter a name:')"
   ]
  },
  {
   "cell_type": "code",
   "execution_count": 2,
   "id": "4e0a2c60",
   "metadata": {},
   "outputs": [
    {
     "name": "stdout",
     "output_type": "stream",
     "text": [
      "farsana\n"
     ]
    }
   ],
   "source": [
    "print(name)"
   ]
  },
  {
   "cell_type": "code",
   "execution_count": 77,
   "id": "420b48f7",
   "metadata": {},
   "outputs": [
    {
     "name": "stdout",
     "output_type": "stream",
     "text": [
      "enter age: 24\n"
     ]
    }
   ],
   "source": [
    "#2\n",
    "age=int(input('enter age:'))"
   ]
  },
  {
   "cell_type": "code",
   "execution_count": 78,
   "id": "ab4a2e2a",
   "metadata": {},
   "outputs": [
    {
     "name": "stdout",
     "output_type": "stream",
     "text": [
      "24\n"
     ]
    }
   ],
   "source": [
    "print(age)"
   ]
  },
  {
   "cell_type": "code",
   "execution_count": 75,
   "id": "92491ba5",
   "metadata": {},
   "outputs": [],
   "source": [
    "#3\n",
    "x=2\n",
    "y=3"
   ]
  },
  {
   "cell_type": "code",
   "execution_count": 6,
   "id": "848b7bdd",
   "metadata": {},
   "outputs": [
    {
     "data": {
      "text/plain": [
       "5"
      ]
     },
     "execution_count": 6,
     "metadata": {},
     "output_type": "execute_result"
    }
   ],
   "source": [
    "addition=x+y\n",
    "addition"
   ]
  },
  {
   "cell_type": "code",
   "execution_count": 8,
   "id": "8a45e4a3",
   "metadata": {},
   "outputs": [
    {
     "data": {
      "text/plain": [
       "-1"
      ]
     },
     "execution_count": 8,
     "metadata": {},
     "output_type": "execute_result"
    }
   ],
   "source": [
    "subtraction=x-y\n",
    "subtraction"
   ]
  },
  {
   "cell_type": "code",
   "execution_count": 9,
   "id": "db9496a0",
   "metadata": {},
   "outputs": [
    {
     "data": {
      "text/plain": [
       "6"
      ]
     },
     "execution_count": 9,
     "metadata": {},
     "output_type": "execute_result"
    }
   ],
   "source": [
    "multiplication=x*y\n",
    "multiplication"
   ]
  },
  {
   "cell_type": "code",
   "execution_count": 10,
   "id": "bb706721",
   "metadata": {},
   "outputs": [
    {
     "data": {
      "text/plain": [
       "0.6666666666666666"
      ]
     },
     "execution_count": 10,
     "metadata": {},
     "output_type": "execute_result"
    }
   ],
   "source": [
    "division=x/y\n",
    "division"
   ]
  },
  {
   "cell_type": "code",
   "execution_count": 76,
   "id": "ed412b59",
   "metadata": {},
   "outputs": [
    {
     "name": "stdout",
     "output_type": "stream",
     "text": [
      "<class 'int'>\n",
      "<class 'int'>\n"
     ]
    }
   ],
   "source": [
    "#4\n",
    "print(type(x))\n",
    "print(type(y))"
   ]
  },
  {
   "cell_type": "code",
   "execution_count": null,
   "id": "9cb77283",
   "metadata": {},
   "outputs": [],
   "source": []
  },
  {
   "cell_type": "code",
   "execution_count": 16,
   "id": "0430a295",
   "metadata": {},
   "outputs": [],
   "source": [
    "#Q2\n",
    "#1\n",
    "first=\"farsana\"\n",
    "last=\" E\"\n",
    "full_name=first+last"
   ]
  },
  {
   "cell_type": "code",
   "execution_count": 17,
   "id": "22bce436",
   "metadata": {},
   "outputs": [
    {
     "data": {
      "text/plain": [
       "'farsana E'"
      ]
     },
     "execution_count": 17,
     "metadata": {},
     "output_type": "execute_result"
    }
   ],
   "source": [
    "full_name"
   ]
  },
  {
   "cell_type": "code",
   "execution_count": 61,
   "id": "aec9ea51",
   "metadata": {},
   "outputs": [
    {
     "name": "stdout",
     "output_type": "stream",
     "text": [
      "far\n"
     ]
    }
   ],
   "source": [
    "#2\n",
    "name=\"farsana\"\n",
    "print(name[0:3])"
   ]
  },
  {
   "cell_type": "code",
   "execution_count": 62,
   "id": "69d5d2f0",
   "metadata": {},
   "outputs": [
    {
     "name": "stdout",
     "output_type": "stream",
     "text": [
      "FARSANA\n",
      "farsana\n"
     ]
    }
   ],
   "source": [
    "#3\n",
    "print(name.upper())\n",
    "print(name.lower())"
   ]
  },
  {
   "cell_type": "code",
   "execution_count": 33,
   "id": "4c0d7cc7",
   "metadata": {},
   "outputs": [
    {
     "name": "stdout",
     "output_type": "stream",
     "text": [
      "F\n",
      "A\n",
      "R\n",
      "s\n",
      "a\n",
      "n\n",
      "A\n"
     ]
    }
   ],
   "source": [
    "for value in i:\n",
    "    if value.isupper():\n",
    "        print(value)\n",
    "    else:\n",
    "        print(value)"
   ]
  },
  {
   "cell_type": "code",
   "execution_count": 63,
   "id": "86c080d0",
   "metadata": {},
   "outputs": [
    {
     "name": "stdout",
     "output_type": "stream",
     "text": [
      "farsana 3\n",
      "3\n"
     ]
    }
   ],
   "source": [
    "#4\n",
    "i=\"farsana\"\n",
    "count=0\n",
    "for value in i:\n",
    "    if value=='a':\n",
    "        count=count+1\n",
    "print(i,count)\n",
    "print(i.count('a'))"
   ]
  },
  {
   "cell_type": "code",
   "execution_count": 66,
   "id": "d4d0ebd6",
   "metadata": {},
   "outputs": [
    {
     "name": "stdout",
     "output_type": "stream",
     "text": [
      "value 1\n"
     ]
    }
   ],
   "source": [
    "#Q3\n",
    "#1\n",
    "list1=[]\n",
    "i=int(input('value'))"
   ]
  },
  {
   "cell_type": "code",
   "execution_count": 67,
   "id": "1501c3d4",
   "metadata": {},
   "outputs": [
    {
     "name": "stdout",
     "output_type": "stream",
     "text": [
      "value 2\n",
      "value 3\n",
      "value 4\n",
      "value 5\n",
      "value 6\n"
     ]
    },
    {
     "name": "stdout",
     "output_type": "stream",
     "text": [
      "[1, 2, 3, 4, 5]\n"
     ]
    }
   ],
   "source": [
    "while i <=5:\n",
    "    list1.append(i)\n",
    "    i=int(input('value'))\n",
    "print(list1)"
   ]
  },
  {
   "cell_type": "code",
   "execution_count": 68,
   "id": "d0a77e60",
   "metadata": {},
   "outputs": [
    {
     "data": {
      "text/plain": [
       "[1, 2, 3, 4, 5]"
      ]
     },
     "execution_count": 68,
     "metadata": {},
     "output_type": "execute_result"
    }
   ],
   "source": [
    "list1"
   ]
  },
  {
   "cell_type": "code",
   "execution_count": 70,
   "id": "6f759878",
   "metadata": {},
   "outputs": [
    {
     "name": "stdout",
     "output_type": "stream",
     "text": [
      "[2, 4]\n"
     ]
    }
   ],
   "source": [
    "#2\n",
    "print(list1[1:4:2])"
   ]
  },
  {
   "cell_type": "code",
   "execution_count": 71,
   "id": "445440fe",
   "metadata": {},
   "outputs": [
    {
     "name": "stdout",
     "output_type": "stream",
     "text": [
      "<class 'tuple'>\n",
      "('anu', 2, True, 0.5)\n"
     ]
    }
   ],
   "source": [
    "#3\n",
    "tuple1=('anu',2,True,0.5)\n",
    "print(type(tuple1))\n",
    "print(tuple1)"
   ]
  },
  {
   "cell_type": "code",
   "execution_count": 72,
   "id": "b4e5007b-8808-48cd-bfa0-68959c4074b3",
   "metadata": {},
   "outputs": [
    {
     "name": "stdout",
     "output_type": "stream",
     "text": [
      "5\n",
      "6\n"
     ]
    }
   ],
   "source": [
    "#4\n",
    "tuple2=1,2,3,'anu',False\n",
    "list2=[3,4,5,6]\n",
    "print(len(tuple2))\n",
    "print(max(list2))\n"
   ]
  },
  {
   "cell_type": "code",
   "execution_count": 73,
   "id": "8e12cb8c-2f88-4338-a5d0-99c4682fdae0",
   "metadata": {},
   "outputs": [
    {
     "name": "stdout",
     "output_type": "stream",
     "text": [
      "1\n",
      "2\n",
      "3\n",
      "4\n",
      "5\n",
      "6\n",
      "7\n",
      "8\n",
      "9\n",
      "10\n"
     ]
    }
   ],
   "source": [
    "#Q4\n",
    "#1\n",
    "for i in range(1,11):\n",
    "    print(i)\n",
    "    "
   ]
  },
  {
   "cell_type": "code",
   "execution_count": 74,
   "id": "2caf1a50-8204-4f77-a270-2c767fddce36",
   "metadata": {},
   "outputs": [
    {
     "name": "stdout",
     "output_type": "stream",
     "text": [
      "2\n",
      "4\n",
      "6\n",
      "8\n",
      "10\n",
      "12\n",
      "14\n",
      "16\n",
      "18\n",
      "20\n"
     ]
    }
   ],
   "source": [
    "#2\n",
    "i=1\n",
    "while i<=20:\n",
    "    if i%2==0:\n",
    "        print(i)\n",
    "    i=i+1"
   ]
  },
  {
   "cell_type": "code",
   "execution_count": 5,
   "id": "b9512acc-26d5-4590-b12a-51baba78f5b6",
   "metadata": {},
   "outputs": [
    {
     "name": "stdout",
     "output_type": "stream",
     "text": [
      "enter value 0\n"
     ]
    }
   ],
   "source": [
    "#Q5\n",
    "#1\n",
    "i=int(input('enter value'))"
   ]
  },
  {
   "cell_type": "code",
   "execution_count": 6,
   "id": "2fffa553-38cd-4974-8558-deb68619536a",
   "metadata": {},
   "outputs": [
    {
     "name": "stdout",
     "output_type": "stream",
     "text": [
      "zero\n"
     ]
    }
   ],
   "source": [
    "if i>0:\n",
    "    print('positive')\n",
    "elif i<0:\n",
    "    print('negative')\n",
    "else:\n",
    "    print('zero')"
   ]
  },
  {
   "cell_type": "code",
   "execution_count": 7,
   "id": "2f3deac4-4f4e-49a6-8f4d-2cf1ad3ce545",
   "metadata": {},
   "outputs": [
    {
     "name": "stdout",
     "output_type": "stream",
     "text": [
      "enter data: 15\n"
     ]
    }
   ],
   "source": [
    "#2\n",
    "i=int(input('enter data:'))"
   ]
  },
  {
   "cell_type": "code",
   "execution_count": 8,
   "id": "e7c20c14-5e3f-4e6c-aacb-1cb2698d8e2d",
   "metadata": {},
   "outputs": [
    {
     "name": "stdout",
     "output_type": "stream",
     "text": [
      "num divisible by both 3 and 5\n"
     ]
    }
   ],
   "source": [
    "if i%3==0 and i%5==0:\n",
    "    print('num divisible by both 3 and 5')\n",
    "else:\n",
    "    print('num not divisible by both 3 and 5')"
   ]
  },
  {
   "cell_type": "code",
   "execution_count": 41,
   "id": "526c13cb-7c1a-46ec-a070-c20d8209ba3d",
   "metadata": {},
   "outputs": [
    {
     "name": "stdout",
     "output_type": "stream",
     "text": [
      "hello,farsana,welcome\n"
     ]
    }
   ],
   "source": [
    "#section2\n",
    "#Q1\n",
    "#1\n",
    "def greet(name):\n",
    "    print(f'hello,{name},welcome')\n",
    "greet('farsana')"
   ]
  },
  {
   "cell_type": "code",
   "execution_count": 40,
   "id": "668f18b3-8840-45e7-9dff-be1e506eaa23",
   "metadata": {},
   "outputs": [
    {
     "name": "stdout",
     "output_type": "stream",
     "text": [
      "Hello, anu!\n"
     ]
    }
   ],
   "source": [
    "#2\n",
    "def greet(name):\n",
    "    print(f\"Hello, {name}!\")\n",
    "greet('anu')"
   ]
  },
  {
   "cell_type": "code",
   "execution_count": 48,
   "id": "bad27da2-3735-42da-92b2-f0386530896e",
   "metadata": {},
   "outputs": [
    {
     "name": "stdout",
     "output_type": "stream",
     "text": [
      "6\n"
     ]
    }
   ],
   "source": [
    "#Q2\n",
    "#1\n",
    "def anu(a,b):\n",
    "    return a*b\n",
    "product= anu(2,3)\n",
    "print(product)\n"
   ]
  },
  {
   "cell_type": "code",
   "execution_count": 59,
   "id": "f94f97df-7236-4f4b-b3f0-621b2fa712cc",
   "metadata": {},
   "outputs": [
    {
     "data": {
      "text/plain": [
       "20"
      ]
     },
     "execution_count": 59,
     "metadata": {},
     "output_type": "execute_result"
    }
   ],
   "source": [
    "#2\n",
    "list1=[1,2,3]\n",
    "def anu(n):\n",
    "    return n*10\n",
    "anu(n)\n"
   ]
  },
  {
   "cell_type": "code",
   "execution_count": 73,
   "id": "6182b7c2-1c9b-40f7-bf5a-4f321c14257f",
   "metadata": {},
   "outputs": [
    {
     "name": "stdout",
     "output_type": "stream",
     "text": [
      "25\n"
     ]
    }
   ],
   "source": [
    "#Q3\n",
    "#1\n",
    "def calculated_area(length,width=5):\n",
    "    return length*width\n",
    "area=calculated_area(5,5)   \n",
    "print(area)\n"
   ]
  },
  {
   "cell_type": "code",
   "execution_count": 72,
   "id": "b229be49-f434-41cb-b782-810940551441",
   "metadata": {},
   "outputs": [
    {
     "name": "stdout",
     "output_type": "stream",
     "text": [
      "80\n"
     ]
    }
   ],
   "source": [
    "#2\n",
    "def calculated_area(length,width=5):\n",
    "    return length*width\n",
    "area1=calculated_area(10,8)   \n",
    "print(area1)\n",
    "area2=calculated_area(10)\n",
    "print(area2)"
   ]
  },
  {
   "cell_type": "code",
   "execution_count": 69,
   "id": "3962316a-b861-4e07-bdd6-16f4c2fb9858",
   "metadata": {},
   "outputs": [
    {
     "name": "stdout",
     "output_type": "stream",
     "text": [
      "2\n"
     ]
    }
   ],
   "source": [
    "#Q4\n",
    "#1\n",
    "def factorial(n):\n",
    "    if n==0 or n==1:\n",
    "        return 1\n",
    "    else:\n",
    "        return n*factorial(n-1)\n",
    "result= factorial(2)\n",
    "print(result)\n",
    "        "
   ]
  },
  {
   "cell_type": "code",
   "execution_count": 70,
   "id": "27b4aa81-d6dc-4791-bee5-1953b6c3ed5a",
   "metadata": {},
   "outputs": [
    {
     "name": "stdout",
     "output_type": "stream",
     "text": [
      "120\n"
     ]
    }
   ],
   "source": [
    "#2\n",
    "def factorial(n):\n",
    "    if n==0 or n==1:\n",
    "        return 1\n",
    "    else:\n",
    "        return n*factorial(n-1)\n",
    "result= factorial(5)\n",
    "print(result)\n",
    "        "
   ]
  },
  {
   "cell_type": "code",
   "execution_count": 74,
   "id": "deaf5fc5-1715-4f0c-96b1-bef6117dc190",
   "metadata": {},
   "outputs": [
    {
     "name": "stdout",
     "output_type": "stream",
     "text": [
      "25\n"
     ]
    }
   ],
   "source": [
    "#Q5\n",
    "#1\n",
    "square=lambda x:x**2\n",
    "result=square(5)\n",
    "print(result)"
   ]
  },
  {
   "cell_type": "code",
   "execution_count": 76,
   "id": "5f3d732f-fb11-4c58-a8e8-9e79ea3631f0",
   "metadata": {},
   "outputs": [
    {
     "name": "stdout",
     "output_type": "stream",
     "text": [
      "5\n"
     ]
    }
   ],
   "source": [
    "#2\n",
    "add=lambda x,y: x+y\n",
    "result=add(2,3)\n",
    "print(result)"
   ]
  },
  {
   "cell_type": "code",
   "execution_count": 2,
   "id": "66fa441c-7f0a-4746-aa6b-7ad0ec47239c",
   "metadata": {},
   "outputs": [
    {
     "name": "stdout",
     "output_type": "stream",
     "text": [
      "2\n"
     ]
    }
   ],
   "source": [
    "#sectionc\n",
    "#Q1\n",
    "#1\n"
   ]
  },
  {
   "cell_type": "code",
   "execution_count": 5,
   "id": "d36a8b15-03f7-4d15-b7cf-8ed9cd278e8b",
   "metadata": {},
   "outputs": [
    {
     "name": "stdout",
     "output_type": "stream",
     "text": [
      "120\n"
     ]
    }
   ],
   "source": []
  },
  {
   "cell_type": "code",
   "execution_count": 36,
   "id": "0798c408-a3a6-40fa-8f47-cf30a4e9bf87",
   "metadata": {},
   "outputs": [],
   "source": [
    "#Q5\n",
    "#1\n",
    "def __init__(self,name,age):\n",
    "    self.name=name\n",
    "    self.age=age\n",
    "def introduce(self):\n",
    "    print(f'hello,my name is {self.name}and i am {self.age}years old')\n",
    "   "
   ]
  },
  {
   "cell_type": "code",
   "execution_count": 34,
   "id": "95daf7ed-cd1d-4401-9729-f5f0e6366539",
   "metadata": {},
   "outputs": [
    {
     "name": "stdout",
     "output_type": "stream",
     "text": [
      "hello,my name is farsana,and am 24years old\n"
     ]
    }
   ],
   "source": [
    "#2\n",
    "class person:\n",
    "    def __init__(self,name,age):\n",
    "        self.name=name\n",
    "        self.age=age\n",
    "    def introduce(self):\n",
    "        print(f'hello,my name is {self.name},and am {self.age}years old')\n",
    "person=person('farsana',24)\n",
    "person.introduce()\n"
   ]
  },
  {
   "cell_type": "code",
   "execution_count": 46,
   "id": "6188d54b-22f6-45db-b4e5-da810d7d0a30",
   "metadata": {},
   "outputs": [
    {
     "name": "stdout",
     "output_type": "stream",
     "text": [
      "hello,my name is farsana,and am 24years old\n",
      "my student ID isS12345\n"
     ]
    }
   ],
   "source": [
    "#Q2\n",
    "#1\n",
    "class person:\n",
    "    def __init__(self,name,age):\n",
    "        self.name=name\n",
    "        self.age=age\n",
    "    def introduce(self):\n",
    "        print(f'hello,my name is {self.name},and am {self.age}years old')\n",
    "class student(person):\n",
    "    def __init__(self,name,age,student_id):\n",
    "        super().__init__(name,age)\n",
    "        self.student_id=student_id\n",
    "    def introduce(self):\n",
    "        super().introduce()\n",
    "        print(f'my student ID is{self.student_id}')\n",
    "student=student('farsana',24,'S12345')\n",
    "student.introduce()"
   ]
  },
  {
   "cell_type": "code",
   "execution_count": 52,
   "id": "1417b723-e001-4779-92d1-d002ea7dc635",
   "metadata": {},
   "outputs": [],
   "source": [
    "#2\n",
    "class person:\n",
    "    def __init__(self,name,age):\n",
    "        self.name=name\n",
    "        self.age=age\n",
    "    def introduce(self):\n",
    "        print(f'hello,my name is {self.name},and am {self.age}years old')\n",
    "class student(person):\n",
    "    def __init__(self,name,age,student_id,grade):\n",
    "        super().__init__(name,age)\n",
    "        self.student_id=student_id\n",
    "        self.grade=grade\n",
    "    def introduce(self):\n",
    "        super().introduce()\n",
    "        print(f'my student ID is{self.student_id}')\n",
    "    def show_grade(self):\n",
    "        print(f\"My grade is {self.grade}.\")\n"
   ]
  },
  {
   "cell_type": "code",
   "execution_count": 53,
   "id": "76589cf5-96ef-46a6-b1c7-5dcec352dbe2",
   "metadata": {},
   "outputs": [
    {
     "name": "stdout",
     "output_type": "stream",
     "text": [
      "hello,my name is farsana,and am 20years old\n",
      "my student ID isS12345\n",
      "My grade is A.\n"
     ]
    }
   ],
   "source": [
    "#3\n",
    "class person:\n",
    "    def __init__(self,name,age):\n",
    "        self.name=name\n",
    "        self.age=age\n",
    "    def introduce(self):\n",
    "        print(f'hello,my name is {self.name},and am {self.age}years old')\n",
    "class student(person):\n",
    "    def __init__(self,name,age,student_id,grade):\n",
    "        super().__init__(name,age)\n",
    "        self.student_id=student_id\n",
    "        self.grade=grade\n",
    "    def introduce(self):\n",
    "        super().introduce()\n",
    "        print(f'my student ID is{self.student_id}')\n",
    "    def show_grade(self):\n",
    "        print(f\"My grade is {self.grade}.\")\n",
    "student = student(\"farsana\", 20, \"S12345\", \"A\")\n",
    "student.introduce()\n",
    "student.show_grade()"
   ]
  },
  {
   "cell_type": "code",
   "execution_count": 56,
   "id": "86d0b294-2c2e-4b66-b695-dbd5812e519f",
   "metadata": {},
   "outputs": [
    {
     "name": "stdout",
     "output_type": "stream",
     "text": [
      "Dog makes a sound.\n"
     ]
    }
   ],
   "source": [
    "#Q3\n",
    "#1\n",
    "class animal:\n",
    "    def __init__(self,name):\n",
    "        self.name=name\n",
    "    def speak(self):\n",
    "        print(f\"{self.name} makes a sound.\")\n",
    "animal = animal(\"Dog\")\n",
    "animal.speak() "
   ]
  },
  {
   "cell_type": "code",
   "execution_count": 59,
   "id": "b5de6f0d-530c-470e-a008-72771510a6a0",
   "metadata": {},
   "outputs": [],
   "source": [
    "#2\n",
    "class Animal:\n",
    "    def __init__(self, name):\n",
    "        self.name = name\n",
    "        \n",
    "    def speak(self):\n",
    "        print(f\"{self.name} makes a sound.\")\n",
    "class Dog(Animal):\n",
    "    def speak(self):\n",
    "        print(f\"{self.name} barks!\")\n",
    "\n",
    "class Cat(Animal):\n",
    "    def speak(self):\n",
    "        print(f\"{self.name} meows!\")\n",
    "        "
   ]
  },
  {
   "cell_type": "code",
   "execution_count": 58,
   "id": "9559191f-96e0-4b0c-a9f2-5e11377078e2",
   "metadata": {},
   "outputs": [
    {
     "name": "stdout",
     "output_type": "stream",
     "text": [
      "Buddy barks!\n",
      "Whiskers meows!\n"
     ]
    }
   ],
   "source": [
    "#3\n",
    "class Animal:\n",
    "    def __init__(self, name):\n",
    "        self.name = name\n",
    "        \n",
    "    def speak(self):\n",
    "        print(f\"{self.name} makes a sound.\")\n",
    "class Dog(Animal):\n",
    "    def speak(self):\n",
    "        print(f\"{self.name} barks!\")\n",
    "\n",
    "class Cat(Animal):\n",
    "    def speak(self):\n",
    "        print(f\"{self.name} meows!\")\n",
    "        \n",
    "dog = Dog(\"Buddy\")\n",
    "dog.speak() \n",
    "\n",
    "cat = Cat(\"Whiskers\")\n",
    "cat.speak()"
   ]
  },
  {
   "cell_type": "code",
   "execution_count": null,
   "id": "d7297d0c-bc8d-4604-99b4-01811b71ae76",
   "metadata": {},
   "outputs": [],
   "source": []
  }
 ],
 "metadata": {
  "kernelspec": {
   "display_name": "Python 3 (ipykernel)",
   "language": "python",
   "name": "python3"
  },
  "language_info": {
   "codemirror_mode": {
    "name": "ipython",
    "version": 3
   },
   "file_extension": ".py",
   "mimetype": "text/x-python",
   "name": "python",
   "nbconvert_exporter": "python",
   "pygments_lexer": "ipython3",
   "version": "3.12.4"
  }
 },
 "nbformat": 4,
 "nbformat_minor": 5
}
