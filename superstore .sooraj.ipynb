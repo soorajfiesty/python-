{
 "cells": [
  {
   "cell_type": "code",
   "execution_count": 4,
   "id": "6daa57e8-d706-4265-93dc-8ae60a60f7db",
   "metadata": {},
   "outputs": [],
   "source": [
    "import pandas as pd"
   ]
  },
  {
   "cell_type": "code",
   "execution_count": 15,
   "id": "a8a31e6e-88ad-4887-807d-8cdba82138aa",
   "metadata": {},
   "outputs": [],
   "source": [
    "superstore=pd.read_excel(r\"C:\\Users\\USER\\Downloads\\Sample - Superstore.xls\",sheet_name=\"Orders\")"
   ]
  },
  {
   "cell_type": "code",
   "execution_count": 17,
   "id": "971d60e9-28c8-4a9a-b3c1-69d26aa78b2d",
   "metadata": {},
   "outputs": [
    {
     "data": {
      "text/html": [
       "<div>\n",
       "<style scoped>\n",
       "    .dataframe tbody tr th:only-of-type {\n",
       "        vertical-align: middle;\n",
       "    }\n",
       "\n",
       "    .dataframe tbody tr th {\n",
       "        vertical-align: top;\n",
       "    }\n",
       "\n",
       "    .dataframe thead th {\n",
       "        text-align: right;\n",
       "    }\n",
       "</style>\n",
       "<table border=\"1\" class=\"dataframe\">\n",
       "  <thead>\n",
       "    <tr style=\"text-align: right;\">\n",
       "      <th></th>\n",
       "      <th>Row ID</th>\n",
       "      <th>Order ID</th>\n",
       "      <th>Order Date</th>\n",
       "      <th>Ship Date</th>\n",
       "      <th>Ship Mode</th>\n",
       "      <th>Customer ID</th>\n",
       "      <th>Customer Name</th>\n",
       "      <th>Segment</th>\n",
       "      <th>Country</th>\n",
       "      <th>City</th>\n",
       "      <th>...</th>\n",
       "      <th>Postal Code</th>\n",
       "      <th>Region</th>\n",
       "      <th>Product ID</th>\n",
       "      <th>Category</th>\n",
       "      <th>Sub-Category</th>\n",
       "      <th>Product Name</th>\n",
       "      <th>Sales</th>\n",
       "      <th>Quantity</th>\n",
       "      <th>Discount</th>\n",
       "      <th>Profit</th>\n",
       "    </tr>\n",
       "  </thead>\n",
       "  <tbody>\n",
       "    <tr>\n",
       "      <th>0</th>\n",
       "      <td>2416</td>\n",
       "      <td>CA-2015-146087</td>\n",
       "      <td>2015-07-06</td>\n",
       "      <td>2015-07-11</td>\n",
       "      <td>Standard Class</td>\n",
       "      <td>PP-18955</td>\n",
       "      <td>Paul Prost</td>\n",
       "      <td>Home Office</td>\n",
       "      <td>United States</td>\n",
       "      <td>Holyoke</td>\n",
       "      <td>...</td>\n",
       "      <td>1040</td>\n",
       "      <td>East</td>\n",
       "      <td>FUR-BO-10002824</td>\n",
       "      <td>Furniture</td>\n",
       "      <td>Bookcases</td>\n",
       "      <td>Bush Mission Pointe Library</td>\n",
       "      <td>301.96</td>\n",
       "      <td>2</td>\n",
       "      <td>0.0</td>\n",
       "      <td>60.3920</td>\n",
       "    </tr>\n",
       "    <tr>\n",
       "      <th>1</th>\n",
       "      <td>5769</td>\n",
       "      <td>CA-2015-154900</td>\n",
       "      <td>2015-02-25</td>\n",
       "      <td>2015-03-01</td>\n",
       "      <td>Standard Class</td>\n",
       "      <td>SS-20875</td>\n",
       "      <td>Sung Shariari</td>\n",
       "      <td>Consumer</td>\n",
       "      <td>United States</td>\n",
       "      <td>Leominster</td>\n",
       "      <td>...</td>\n",
       "      <td>1453</td>\n",
       "      <td>East</td>\n",
       "      <td>OFF-LA-10001641</td>\n",
       "      <td>Office Supplies</td>\n",
       "      <td>Labels</td>\n",
       "      <td>Avery 518</td>\n",
       "      <td>3.15</td>\n",
       "      <td>1</td>\n",
       "      <td>0.0</td>\n",
       "      <td>1.5120</td>\n",
       "    </tr>\n",
       "    <tr>\n",
       "      <th>2</th>\n",
       "      <td>5770</td>\n",
       "      <td>CA-2015-154900</td>\n",
       "      <td>2015-02-25</td>\n",
       "      <td>2015-03-01</td>\n",
       "      <td>Standard Class</td>\n",
       "      <td>SS-20875</td>\n",
       "      <td>Sung Shariari</td>\n",
       "      <td>Consumer</td>\n",
       "      <td>United States</td>\n",
       "      <td>Leominster</td>\n",
       "      <td>...</td>\n",
       "      <td>1453</td>\n",
       "      <td>East</td>\n",
       "      <td>OFF-PA-10002377</td>\n",
       "      <td>Office Supplies</td>\n",
       "      <td>Paper</td>\n",
       "      <td>Adams Telephone Message Book W/Dividers/Space ...</td>\n",
       "      <td>22.72</td>\n",
       "      <td>4</td>\n",
       "      <td>0.0</td>\n",
       "      <td>10.2240</td>\n",
       "    </tr>\n",
       "    <tr>\n",
       "      <th>3</th>\n",
       "      <td>2029</td>\n",
       "      <td>CA-2015-117961</td>\n",
       "      <td>2015-11-26</td>\n",
       "      <td>2015-11-30</td>\n",
       "      <td>Standard Class</td>\n",
       "      <td>GP-14740</td>\n",
       "      <td>Guy Phonely</td>\n",
       "      <td>Corporate</td>\n",
       "      <td>United States</td>\n",
       "      <td>Leominster</td>\n",
       "      <td>...</td>\n",
       "      <td>1453</td>\n",
       "      <td>East</td>\n",
       "      <td>OFF-BI-10000343</td>\n",
       "      <td>Office Supplies</td>\n",
       "      <td>Binders</td>\n",
       "      <td>Pressboard Covers with Storage Hooks, 9 1/2\" x...</td>\n",
       "      <td>14.73</td>\n",
       "      <td>3</td>\n",
       "      <td>0.0</td>\n",
       "      <td>6.9231</td>\n",
       "    </tr>\n",
       "    <tr>\n",
       "      <th>4</th>\n",
       "      <td>2030</td>\n",
       "      <td>CA-2015-117961</td>\n",
       "      <td>2015-11-26</td>\n",
       "      <td>2015-11-30</td>\n",
       "      <td>Standard Class</td>\n",
       "      <td>GP-14740</td>\n",
       "      <td>Guy Phonely</td>\n",
       "      <td>Corporate</td>\n",
       "      <td>United States</td>\n",
       "      <td>Leominster</td>\n",
       "      <td>...</td>\n",
       "      <td>1453</td>\n",
       "      <td>East</td>\n",
       "      <td>OFF-ST-10001172</td>\n",
       "      <td>Office Supplies</td>\n",
       "      <td>Storage</td>\n",
       "      <td>Tennsco Lockers, Sand</td>\n",
       "      <td>104.90</td>\n",
       "      <td>5</td>\n",
       "      <td>0.0</td>\n",
       "      <td>25.1760</td>\n",
       "    </tr>\n",
       "  </tbody>\n",
       "</table>\n",
       "<p>5 rows × 21 columns</p>\n",
       "</div>"
      ],
      "text/plain": [
       "   Row ID        Order ID Order Date  Ship Date       Ship Mode Customer ID  \\\n",
       "0    2416  CA-2015-146087 2015-07-06 2015-07-11  Standard Class    PP-18955   \n",
       "1    5769  CA-2015-154900 2015-02-25 2015-03-01  Standard Class    SS-20875   \n",
       "2    5770  CA-2015-154900 2015-02-25 2015-03-01  Standard Class    SS-20875   \n",
       "3    2029  CA-2015-117961 2015-11-26 2015-11-30  Standard Class    GP-14740   \n",
       "4    2030  CA-2015-117961 2015-11-26 2015-11-30  Standard Class    GP-14740   \n",
       "\n",
       "   Customer Name      Segment        Country        City  ... Postal Code  \\\n",
       "0     Paul Prost  Home Office  United States     Holyoke  ...        1040   \n",
       "1  Sung Shariari     Consumer  United States  Leominster  ...        1453   \n",
       "2  Sung Shariari     Consumer  United States  Leominster  ...        1453   \n",
       "3    Guy Phonely    Corporate  United States  Leominster  ...        1453   \n",
       "4    Guy Phonely    Corporate  United States  Leominster  ...        1453   \n",
       "\n",
       "   Region       Product ID         Category Sub-Category  \\\n",
       "0    East  FUR-BO-10002824        Furniture    Bookcases   \n",
       "1    East  OFF-LA-10001641  Office Supplies       Labels   \n",
       "2    East  OFF-PA-10002377  Office Supplies        Paper   \n",
       "3    East  OFF-BI-10000343  Office Supplies      Binders   \n",
       "4    East  OFF-ST-10001172  Office Supplies      Storage   \n",
       "\n",
       "                                        Product Name   Sales  Quantity  \\\n",
       "0                        Bush Mission Pointe Library  301.96         2   \n",
       "1                                          Avery 518    3.15         1   \n",
       "2  Adams Telephone Message Book W/Dividers/Space ...   22.72         4   \n",
       "3  Pressboard Covers with Storage Hooks, 9 1/2\" x...   14.73         3   \n",
       "4                              Tennsco Lockers, Sand  104.90         5   \n",
       "\n",
       "   Discount   Profit  \n",
       "0       0.0  60.3920  \n",
       "1       0.0   1.5120  \n",
       "2       0.0  10.2240  \n",
       "3       0.0   6.9231  \n",
       "4       0.0  25.1760  \n",
       "\n",
       "[5 rows x 21 columns]"
      ]
     },
     "execution_count": 17,
     "metadata": {},
     "output_type": "execute_result"
    }
   ],
   "source": [
    "superstore.head()"
   ]
  },
  {
   "cell_type": "code",
   "execution_count": 18,
   "id": "cd41eb83-2841-41be-a539-0db7c5bce96e",
   "metadata": {},
   "outputs": [
    {
     "name": "stdout",
     "output_type": "stream",
     "text": [
      "<class 'pandas.core.frame.DataFrame'>\n",
      "RangeIndex: 9994 entries, 0 to 9993\n",
      "Data columns (total 21 columns):\n",
      " #   Column         Non-Null Count  Dtype         \n",
      "---  ------         --------------  -----         \n",
      " 0   Row ID         9994 non-null   int64         \n",
      " 1   Order ID       9994 non-null   object        \n",
      " 2   Order Date     9994 non-null   datetime64[ns]\n",
      " 3   Ship Date      9994 non-null   datetime64[ns]\n",
      " 4   Ship Mode      9994 non-null   object        \n",
      " 5   Customer ID    9994 non-null   object        \n",
      " 6   Customer Name  9994 non-null   object        \n",
      " 7   Segment        9994 non-null   object        \n",
      " 8   Country        9994 non-null   object        \n",
      " 9   City           9994 non-null   object        \n",
      " 10  State          9994 non-null   object        \n",
      " 11  Postal Code    9994 non-null   int64         \n",
      " 12  Region         9994 non-null   object        \n",
      " 13  Product ID     9994 non-null   object        \n",
      " 14  Category       9994 non-null   object        \n",
      " 15  Sub-Category   9994 non-null   object        \n",
      " 16  Product Name   9994 non-null   object        \n",
      " 17  Sales          9994 non-null   float64       \n",
      " 18  Quantity       9994 non-null   int64         \n",
      " 19  Discount       9994 non-null   float64       \n",
      " 20  Profit         9994 non-null   float64       \n",
      "dtypes: datetime64[ns](2), float64(3), int64(3), object(13)\n",
      "memory usage: 1.6+ MB\n"
     ]
    }
   ],
   "source": [
    "superstore.info()"
   ]
  },
  {
   "cell_type": "code",
   "execution_count": 19,
   "id": "7a282372-87ca-418e-b83e-ca36bd284eff",
   "metadata": {},
   "outputs": [
    {
     "data": {
      "text/html": [
       "<div>\n",
       "<style scoped>\n",
       "    .dataframe tbody tr th:only-of-type {\n",
       "        vertical-align: middle;\n",
       "    }\n",
       "\n",
       "    .dataframe tbody tr th {\n",
       "        vertical-align: top;\n",
       "    }\n",
       "\n",
       "    .dataframe thead th {\n",
       "        text-align: right;\n",
       "    }\n",
       "</style>\n",
       "<table border=\"1\" class=\"dataframe\">\n",
       "  <thead>\n",
       "    <tr style=\"text-align: right;\">\n",
       "      <th></th>\n",
       "      <th>Row ID</th>\n",
       "      <th>Order Date</th>\n",
       "      <th>Ship Date</th>\n",
       "      <th>Postal Code</th>\n",
       "      <th>Sales</th>\n",
       "      <th>Quantity</th>\n",
       "      <th>Discount</th>\n",
       "      <th>Profit</th>\n",
       "    </tr>\n",
       "  </thead>\n",
       "  <tbody>\n",
       "    <tr>\n",
       "      <th>count</th>\n",
       "      <td>9994.000000</td>\n",
       "      <td>9994</td>\n",
       "      <td>9994</td>\n",
       "      <td>9994.000000</td>\n",
       "      <td>9994.000000</td>\n",
       "      <td>9994.000000</td>\n",
       "      <td>9994.000000</td>\n",
       "      <td>9994.000000</td>\n",
       "    </tr>\n",
       "    <tr>\n",
       "      <th>mean</th>\n",
       "      <td>4997.500000</td>\n",
       "      <td>2016-04-30 00:07:12.259355648</td>\n",
       "      <td>2016-05-03 23:06:58.571142912</td>\n",
       "      <td>55190.379428</td>\n",
       "      <td>229.858001</td>\n",
       "      <td>3.789574</td>\n",
       "      <td>0.156203</td>\n",
       "      <td>28.656896</td>\n",
       "    </tr>\n",
       "    <tr>\n",
       "      <th>min</th>\n",
       "      <td>1.000000</td>\n",
       "      <td>2014-01-03 00:00:00</td>\n",
       "      <td>2014-01-07 00:00:00</td>\n",
       "      <td>1040.000000</td>\n",
       "      <td>0.444000</td>\n",
       "      <td>1.000000</td>\n",
       "      <td>0.000000</td>\n",
       "      <td>-6599.978000</td>\n",
       "    </tr>\n",
       "    <tr>\n",
       "      <th>25%</th>\n",
       "      <td>2499.250000</td>\n",
       "      <td>2015-05-23 00:00:00</td>\n",
       "      <td>2015-05-27 00:00:00</td>\n",
       "      <td>23223.000000</td>\n",
       "      <td>17.280000</td>\n",
       "      <td>2.000000</td>\n",
       "      <td>0.000000</td>\n",
       "      <td>1.728750</td>\n",
       "    </tr>\n",
       "    <tr>\n",
       "      <th>50%</th>\n",
       "      <td>4997.500000</td>\n",
       "      <td>2016-06-26 00:00:00</td>\n",
       "      <td>2016-06-29 00:00:00</td>\n",
       "      <td>56430.500000</td>\n",
       "      <td>54.490000</td>\n",
       "      <td>3.000000</td>\n",
       "      <td>0.200000</td>\n",
       "      <td>8.666500</td>\n",
       "    </tr>\n",
       "    <tr>\n",
       "      <th>75%</th>\n",
       "      <td>7495.750000</td>\n",
       "      <td>2017-05-14 00:00:00</td>\n",
       "      <td>2017-05-18 00:00:00</td>\n",
       "      <td>90008.000000</td>\n",
       "      <td>209.940000</td>\n",
       "      <td>5.000000</td>\n",
       "      <td>0.200000</td>\n",
       "      <td>29.364000</td>\n",
       "    </tr>\n",
       "    <tr>\n",
       "      <th>max</th>\n",
       "      <td>9994.000000</td>\n",
       "      <td>2017-12-30 00:00:00</td>\n",
       "      <td>2018-01-05 00:00:00</td>\n",
       "      <td>99301.000000</td>\n",
       "      <td>22638.480000</td>\n",
       "      <td>14.000000</td>\n",
       "      <td>0.800000</td>\n",
       "      <td>8399.976000</td>\n",
       "    </tr>\n",
       "    <tr>\n",
       "      <th>std</th>\n",
       "      <td>2885.163629</td>\n",
       "      <td>NaN</td>\n",
       "      <td>NaN</td>\n",
       "      <td>32063.693350</td>\n",
       "      <td>623.245101</td>\n",
       "      <td>2.225110</td>\n",
       "      <td>0.206452</td>\n",
       "      <td>234.260108</td>\n",
       "    </tr>\n",
       "  </tbody>\n",
       "</table>\n",
       "</div>"
      ],
      "text/plain": [
       "            Row ID                     Order Date  \\\n",
       "count  9994.000000                           9994   \n",
       "mean   4997.500000  2016-04-30 00:07:12.259355648   \n",
       "min       1.000000            2014-01-03 00:00:00   \n",
       "25%    2499.250000            2015-05-23 00:00:00   \n",
       "50%    4997.500000            2016-06-26 00:00:00   \n",
       "75%    7495.750000            2017-05-14 00:00:00   \n",
       "max    9994.000000            2017-12-30 00:00:00   \n",
       "std    2885.163629                            NaN   \n",
       "\n",
       "                           Ship Date   Postal Code         Sales     Quantity  \\\n",
       "count                           9994   9994.000000   9994.000000  9994.000000   \n",
       "mean   2016-05-03 23:06:58.571142912  55190.379428    229.858001     3.789574   \n",
       "min              2014-01-07 00:00:00   1040.000000      0.444000     1.000000   \n",
       "25%              2015-05-27 00:00:00  23223.000000     17.280000     2.000000   \n",
       "50%              2016-06-29 00:00:00  56430.500000     54.490000     3.000000   \n",
       "75%              2017-05-18 00:00:00  90008.000000    209.940000     5.000000   \n",
       "max              2018-01-05 00:00:00  99301.000000  22638.480000    14.000000   \n",
       "std                              NaN  32063.693350    623.245101     2.225110   \n",
       "\n",
       "          Discount       Profit  \n",
       "count  9994.000000  9994.000000  \n",
       "mean      0.156203    28.656896  \n",
       "min       0.000000 -6599.978000  \n",
       "25%       0.000000     1.728750  \n",
       "50%       0.200000     8.666500  \n",
       "75%       0.200000    29.364000  \n",
       "max       0.800000  8399.976000  \n",
       "std       0.206452   234.260108  "
      ]
     },
     "execution_count": 19,
     "metadata": {},
     "output_type": "execute_result"
    }
   ],
   "source": [
    "superstore.describe()"
   ]
  },
  {
   "cell_type": "code",
   "execution_count": 24,
   "id": "67927976-0219-4386-bfa1-cdcd91ab656b",
   "metadata": {},
   "outputs": [
    {
     "data": {
      "text/plain": [
       "9994"
      ]
     },
     "execution_count": 24,
     "metadata": {},
     "output_type": "execute_result"
    }
   ],
   "source": [
    "superstore['Ship Mode'].count()"
   ]
  },
  {
   "cell_type": "code",
   "execution_count": 26,
   "id": "4098242f-269d-4f08-889f-1976e2c3001c",
   "metadata": {},
   "outputs": [
    {
     "data": {
      "text/plain": [
       "0.44399999999999995"
      ]
     },
     "execution_count": 26,
     "metadata": {},
     "output_type": "execute_result"
    }
   ],
   "source": [
    "superstore['Sales'].min()"
   ]
  },
  {
   "cell_type": "code",
   "execution_count": 27,
   "id": "77fa41cf-e544-4188-bf37-864e3138d71d",
   "metadata": {},
   "outputs": [
    {
     "data": {
      "text/plain": [
       "22638.48"
      ]
     },
     "execution_count": 27,
     "metadata": {},
     "output_type": "execute_result"
    }
   ],
   "source": [
    "superstore['Sales'].max()"
   ]
  },
  {
   "cell_type": "code",
   "execution_count": 40,
   "id": "b2f978c7-3c37-44c5-9cf8-7f7a7aa174d1",
   "metadata": {},
   "outputs": [
    {
     "data": {
      "text/plain": [
       "Ship Mode\n",
       "Standard Class    5968\n",
       "Second Class      1945\n",
       "First Class       1538\n",
       "Same Day           543\n",
       "Name: count, dtype: int64"
      ]
     },
     "execution_count": 40,
     "metadata": {},
     "output_type": "execute_result"
    }
   ],
   "source": [
    "superstore.value_counts('Ship Mode')"
   ]
  },
  {
   "cell_type": "code",
   "execution_count": 37,
   "id": "73b77a2b-4af4-4324-93f7-2e760bf3324f",
   "metadata": {},
   "outputs": [
    {
     "data": {
      "text/plain": [
       "Segment\n",
       "Consumer       5191\n",
       "Corporate      3020\n",
       "Home Office    1783\n",
       "Name: count, dtype: int64"
      ]
     },
     "execution_count": 37,
     "metadata": {},
     "output_type": "execute_result"
    }
   ],
   "source": [
    "superstore.value_counts('Segment')"
   ]
  },
  {
   "cell_type": "code",
   "execution_count": 39,
   "id": "2db25a4c-2036-4e29-a34d-3b8b41b5731b",
   "metadata": {},
   "outputs": [
    {
     "data": {
      "text/plain": [
       "Category\n",
       "Office Supplies    6026\n",
       "Furniture          2121\n",
       "Technology         1847\n",
       "Name: count, dtype: int64"
      ]
     },
     "execution_count": 39,
     "metadata": {},
     "output_type": "execute_result"
    }
   ],
   "source": [
    "superstore.value_counts('Category')"
   ]
  },
  {
   "cell_type": "code",
   "execution_count": 45,
   "id": "c110409f-834e-42f6-865f-fa74ea95671b",
   "metadata": {},
   "outputs": [
    {
     "data": {
      "text/plain": [
       "State\n",
       "California      2001\n",
       "New York        1128\n",
       "Texas            985\n",
       "Pennsylvania     587\n",
       "Washington       506\n",
       "Name: count, dtype: int64"
      ]
     },
     "execution_count": 45,
     "metadata": {},
     "output_type": "execute_result"
    }
   ],
   "source": [
    "superstore.value_counts('State').head()"
   ]
  },
  {
   "cell_type": "code",
   "execution_count": 44,
   "id": "8b8559a9-5999-4c49-ae1d-3ac5e6e94e5c",
   "metadata": {},
   "outputs": [
    {
     "data": {
      "text/plain": [
       "City\n",
       "New York City    915\n",
       "Los Angeles      747\n",
       "Philadelphia     537\n",
       "San Francisco    510\n",
       "Seattle          428\n",
       "                ... \n",
       "Redwood City       1\n",
       "Holyoke            1\n",
       "Redding            1\n",
       "Iowa City          1\n",
       "Aberdeen           1\n",
       "Name: count, Length: 531, dtype: int64"
      ]
     },
     "execution_count": 44,
     "metadata": {},
     "output_type": "execute_result"
    }
   ],
   "source": [
    "superstore.value_counts('City')"
   ]
  },
  {
   "cell_type": "code",
   "execution_count": 50,
   "id": "e196c6bf-2614-4a50-9260-ccd8362d47f8",
   "metadata": {},
   "outputs": [
    {
     "data": {
      "text/plain": [
       "351428.4229"
      ]
     },
     "execution_count": 50,
     "metadata": {},
     "output_type": "execute_result"
    }
   ],
   "source": [
    "superstore[superstore['Ship Mode']=='First Class']['Sales'].sum()"
   ]
  },
  {
   "cell_type": "code",
   "execution_count": 72,
   "id": "b320c8ba-9f5f-464b-823b-26cf591e00cc",
   "metadata": {},
   "outputs": [
    {
     "data": {
      "text/plain": [
       "Ship Mode\n",
       "First Class       3.514284e+05\n",
       "Same Day          1.283631e+05\n",
       "Second Class      4.591936e+05\n",
       "Standard Class    1.358216e+06\n",
       "Name: Sales, dtype: float64"
      ]
     },
     "execution_count": 72,
     "metadata": {},
     "output_type": "execute_result"
    }
   ],
   "source": [
    "superstore.groupby('Ship Mode')['Sales'].sum()"
   ]
  },
  {
   "cell_type": "code",
   "execution_count": 73,
   "id": "20010166-a33a-479b-9f21-28038424a7d0",
   "metadata": {},
   "outputs": [
    {
     "data": {
      "text/plain": [
       "Ship Mode\n",
       "First Class        48969.8399\n",
       "Same Day           15891.7589\n",
       "Second Class       57446.6354\n",
       "Standard Class    164088.7875\n",
       "Name: Profit, dtype: float64"
      ]
     },
     "execution_count": 73,
     "metadata": {},
     "output_type": "execute_result"
    }
   ],
   "source": [
    "superstore.groupby('Ship Mode')['Profit'].sum()"
   ]
  },
  {
   "cell_type": "code",
   "execution_count": 74,
   "id": "03d39dd7-4ddb-4489-8ce4-bc5d6b44c763",
   "metadata": {},
   "outputs": [
    {
     "data": {
      "text/plain": [
       "Segment\n",
       "Consumer       1.161401e+06\n",
       "Corporate      7.061464e+05\n",
       "Home Office    4.296531e+05\n",
       "Name: Sales, dtype: float64"
      ]
     },
     "execution_count": 74,
     "metadata": {},
     "output_type": "execute_result"
    }
   ],
   "source": [
    "superstore.groupby('Segment')['Sales'].sum()"
   ]
  },
  {
   "cell_type": "code",
   "execution_count": 75,
   "id": "1e1c0881-e94a-4f07-82da-6d83c9e0f617",
   "metadata": {},
   "outputs": [
    {
     "data": {
      "text/plain": [
       "Segment\n",
       "Consumer       134119.2092\n",
       "Corporate       91979.1340\n",
       "Home Office     60298.6785\n",
       "Name: Profit, dtype: float64"
      ]
     },
     "execution_count": 75,
     "metadata": {},
     "output_type": "execute_result"
    }
   ],
   "source": [
    "superstore.groupby('Segment')['Profit'].sum()"
   ]
  },
  {
   "cell_type": "code",
   "execution_count": 77,
   "id": "827e3a05-925e-4843-836b-e65a1d196eb5",
   "metadata": {},
   "outputs": [
    {
     "data": {
      "text/plain": [
       "State\n",
       "Alabama        19510.6400\n",
       "Arizona        35282.0010\n",
       "Arkansas       11678.1300\n",
       "California    457687.6315\n",
       "Colorado       32108.1180\n",
       "Name: Sales, dtype: float64"
      ]
     },
     "execution_count": 77,
     "metadata": {},
     "output_type": "execute_result"
    }
   ],
   "source": [
    "superstore.groupby('State')['Sales'].sum().head()"
   ]
  },
  {
   "cell_type": "code",
   "execution_count": 78,
   "id": "07037e61-50bf-4952-92fe-318dc8911487",
   "metadata": {},
   "outputs": [
    {
     "data": {
      "text/plain": [
       "State\n",
       "Alabama        5786.8253\n",
       "Arizona       -3427.9246\n",
       "Arkansas       4008.6871\n",
       "California    76381.3871\n",
       "Colorado      -6527.8579\n",
       "Name: Profit, dtype: float64"
      ]
     },
     "execution_count": 78,
     "metadata": {},
     "output_type": "execute_result"
    }
   ],
   "source": [
    "superstore.groupby('State')['Profit'].sum().head()"
   ]
  },
  {
   "cell_type": "code",
   "execution_count": 79,
   "id": "cbc9f933-60e5-42b6-bee6-9012468318e3",
   "metadata": {},
   "outputs": [
    {
     "data": {
      "text/plain": [
       "Region\n",
       "West       3203\n",
       "East       2848\n",
       "Central    2323\n",
       "South      1620\n",
       "Name: count, dtype: int64"
      ]
     },
     "execution_count": 79,
     "metadata": {},
     "output_type": "execute_result"
    }
   ],
   "source": [
    "superstore.value_counts('Region')"
   ]
  },
  {
   "cell_type": "code",
   "execution_count": 80,
   "id": "dcc735d2-2b15-4d1b-b1ec-f23c53980bda",
   "metadata": {},
   "outputs": [
    {
     "data": {
      "text/plain": [
       "Region\n",
       "Central    501239.8908\n",
       "East       678781.2400\n",
       "South      391721.9050\n",
       "West       725457.8245\n",
       "Name: Sales, dtype: float64"
      ]
     },
     "execution_count": 80,
     "metadata": {},
     "output_type": "execute_result"
    }
   ],
   "source": [
    "superstore.groupby('Region')['Sales'].sum()"
   ]
  },
  {
   "cell_type": "code",
   "execution_count": 81,
   "id": "16a09b69-ba81-4706-b43d-41d4d1916d8a",
   "metadata": {},
   "outputs": [
    {
     "data": {
      "text/plain": [
       "Region\n",
       "Central     39706.3625\n",
       "East        91522.7800\n",
       "South       46749.4303\n",
       "West       108418.4489\n",
       "Name: Profit, dtype: float64"
      ]
     },
     "execution_count": 81,
     "metadata": {},
     "output_type": "execute_result"
    }
   ],
   "source": [
    "superstore.groupby('Region')['Profit'].sum()"
   ]
  },
  {
   "cell_type": "code",
   "execution_count": 83,
   "id": "3fc40302-cf82-4a8f-a125-cac39870d35f",
   "metadata": {},
   "outputs": [
    {
     "data": {
      "text/plain": [
       "Category\n",
       "Furniture          741999.7953\n",
       "Office Supplies    719047.0320\n",
       "Technology         836154.0330\n",
       "Name: Sales, dtype: float64"
      ]
     },
     "execution_count": 83,
     "metadata": {},
     "output_type": "execute_result"
    }
   ],
   "source": [
    "superstore.groupby('Category')['Sales'].sum()"
   ]
  },
  {
   "cell_type": "code",
   "execution_count": 84,
   "id": "c23aeb68-155e-44ef-a4b3-aa5039e01cfa",
   "metadata": {},
   "outputs": [
    {
     "data": {
      "text/plain": [
       "Category\n",
       "Furniture           18451.2728\n",
       "Office Supplies    122490.8008\n",
       "Technology         145454.9481\n",
       "Name: Profit, dtype: float64"
      ]
     },
     "execution_count": 84,
     "metadata": {},
     "output_type": "execute_result"
    }
   ],
   "source": [
    "superstore.groupby('Category')['Profit'].sum()"
   ]
  },
  {
   "cell_type": "code",
   "execution_count": null,
   "id": "2d43df7c-65ca-4216-a1fd-c79ae3938415",
   "metadata": {},
   "outputs": [],
   "source": []
  }
 ],
 "metadata": {
  "kernelspec": {
   "display_name": "Python 3 (ipykernel)",
   "language": "python",
   "name": "python3"
  },
  "language_info": {
   "codemirror_mode": {
    "name": "ipython",
    "version": 3
   },
   "file_extension": ".py",
   "mimetype": "text/x-python",
   "name": "python",
   "nbconvert_exporter": "python",
   "pygments_lexer": "ipython3",
   "version": "3.12.4"
  }
 },
 "nbformat": 4,
 "nbformat_minor": 5
}
